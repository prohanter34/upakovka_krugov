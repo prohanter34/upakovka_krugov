{
 "cells": [
  {
   "cell_type": "markdown",
   "id": "bc440010",
   "metadata": {},
   "source": [
    "## 47. См 19а\n"
   ]
  },
  {
   "cell_type": "markdown",
   "id": "cba8330a",
   "metadata": {},
   "source": [
    "## 19-A. Упаковка кругов в квадрат.\n",
    "### То же, что и в № 19, но требуется упаковать  n  кругов радиуса  r  в единичный квадрат, так, чтобы  r  было максимальным."
   ]
  },
  {
   "cell_type": "markdown",
   "id": "2e634dd1",
   "metadata": {},
   "source": [
    "Для решения задачи упаковки кругов в единичный круг будем использовать функцию minimize_scalar из библиотеки scipy.optimize."
   ]
  },
  {
   "cell_type": "code",
   "execution_count": null,
   "id": "c65ea940",
   "metadata": {},
   "outputs": [],
   "source": [
    "import numpy as np\n",
    "from scipy.optimize import minimize"
   ]
  },
  {
   "cell_type": "markdown",
   "id": "a48681a9",
   "metadata": {},
   "source": [
    "#### Создадим функцию, которая будет определять, помещается ли n кругов радиуса r в единичный круг, и чтобы они не пересекались:"
   ]
  },
  {
   "cell_type": "code",
   "execution_count": 1,
   "id": "6921286d",
   "metadata": {},
   "outputs": [],
   "source": [
    "def constraint_func(x):\n",
    "    n = len(x) // 2\n",
    "    r = x[-1]\n",
    "    constraints = []\n",
    "    for i in range(n):\n",
    "        for j in range(i+1, n):\n",
    "            d = np.sqrt((x[i]-x[j])**2 + (x[i+n]-x[j+n])**2)\n",
    "            constraints.append(d - 2*r)\n",
    "    return constraints\n",
    "\n",
    "# функция, которую хотим минимизировать, чтобы максимизировать r\n",
    "def objective_func(x):\n",
    "    return -x[-1]\n",
    "\n",
    "# функция для нахождения радиуса кругов, удовлетворяющих ограничениям\n",
    "def pack_circles_in_square(n):\n",
    "    x0 = np.zeros(2*n+1) # начальное приближение\n",
    "    x0[-1] = 1 # начинаем с максимально возможного радиуса\n",
    "    bounds = [(0, 1) for i in range(2*n+1)] # ограничения на все переменные\n",
    "\n",
    "    # добавим ограничения на расположение кругов внутри квадрата\n",
    "    constraints = []\n",
    "    for i in range(n):\n",
    "        constraints.append({'type': 'ineq', 'fun': lambda x, i=i: x[i] - x[-1]})\n",
    "        constraints.append({'type': 'ineq', 'fun': lambda x, i=i: -x[i] + 1 - x[-1]})\n",
    "        constraints.append({'type': 'ineq', 'fun': lambda x, i=i: x[i+n] - x[-1]})\n",
    "        constraints.append({'type': 'ineq', 'fun': lambda x, i=i: -x[i+n] + 1 - x[-1]})\n",
    "\n",
    "    res = minimize(objective_func, x0, bounds=bounds, constraints=[{'fun': constraint_func, 'type': 'ineq'}] + constraints)\n",
    "    r = res.x[-1]\n",
    "    circles = [(res.x[i], res.x[i+n], r) for i in range(n)]\n",
    "\n",
    "    return circles\n",
    "\n",
    "\n",
    "import matplotlib.pyplot as plt\n"
   ]
  },
  {
   "cell_type": "markdown",
   "id": "78e1de74",
   "metadata": {},
   "source": [
    "#### Затем создадим функцию, которая будет рисовать упаковку кругов:"
   ]
  },
  {
   "cell_type": "code",
   "execution_count": null,
   "id": "fa969ae4",
   "metadata": {},
   "outputs": [],
   "source": [
    "def plot_circles(circles):\n",
    "    fig, ax = plt.subplots(figsize=(5, 5))\n",
    "    for circle in circles:\n",
    "        ax.add_artist(plt.Circle((circle[0], circle[1]), circle[2], color='b', fill=False))\n",
    "    plt.xlim(0, 1)\n",
    "    plt.ylim(0, 1)\n",
    "    plt.show()"
   ]
  },
  {
   "cell_type": "markdown",
   "id": "ef796270",
   "metadata": {},
   "source": [
    "#### Наконец, вызовем эти функции для значений n от 1 до 30:"
   ]
  },
  {
   "cell_type": "code",
   "execution_count": null,
   "id": "0571136d",
   "metadata": {},
   "outputs": [],
   "source": [
    "for n in range(1, 30):\n",
    "    circles = pack_circles_in_square(n=n)\n",
    "    print(circles)\n",
    "    plot_circles(circles)"
   ]
  },
  {
   "cell_type": "markdown",
   "id": "a2488541",
   "metadata": {},
   "source": [
    "#### Примеры упаковки для 5, 6 и 7 кругов"
   ]
  },
  {
   "cell_type": "markdown",
   "id": "37fd7184",
   "metadata": {},
   "source": [
    "<img src='https://sun9-32.userapi.com/impg/GGS16MwqCaJK2RbW_qefYhELS79TMQSli4f8kQ/0QBZJ_2pDQY.jpg?size=546x526&quality=95&sign=175cc2d955967f9df0a068fc28f4bb43&type=album' width=320, heigth=240>"
   ]
  },
  {
   "cell_type": "markdown",
   "id": "4d874947",
   "metadata": {},
   "source": [
    "<img src='https://sun9-79.userapi.com/impg/fFXCckgOFLRgZhqxTboNY3k90GwuVv2jY0IEpA/qNWuB9GL_Lg.jpg?size=547x521&quality=95&sign=89b804d4e04af6d56e9f715b6e9e53cc&type=album' width=320, heigth=240>"
   ]
  },
  {
   "cell_type": "markdown",
   "id": "76c0a3b8",
   "metadata": {},
   "source": [
    "<img src='https://sun9-76.userapi.com/impg/PF-Ob8SvEDyhd--WIEWveItkm0554OW4b8xRjg/gJGYTSUPo1k.jpg?size=569x528&quality=95&sign=0e2e3a0c7b3b06f0643f71a2b60e4297&type=album' width=320, heigth=240>"
   ]
  }
 ],
 "metadata": {
  "kernelspec": {
   "display_name": "Python 3 (ipykernel)",
   "language": "python",
   "name": "python3"
  },
  "language_info": {
   "codemirror_mode": {
    "name": "ipython",
    "version": 3
   },
   "file_extension": ".py",
   "mimetype": "text/x-python",
   "name": "python",
   "nbconvert_exporter": "python",
   "pygments_lexer": "ipython3",
   "version": "3.10.9"
  }
 },
 "nbformat": 4,
 "nbformat_minor": 5
}
